{
  "nbformat": 4,
  "nbformat_minor": 0,
  "metadata": {
    "colab": {
      "provenance": [],
      "mount_file_id": "16sq8zTzMC1cPcZofC7xX6vIAzAL3rUA_",
      "authorship_tag": "ABX9TyM2H2Xl5chOngtjmLX8bD4k",
      "include_colab_link": true
    },
    "kernelspec": {
      "name": "python3",
      "display_name": "Python 3"
    },
    "language_info": {
      "name": "python"
    }
  },
  "cells": [
    {
      "cell_type": "markdown",
      "metadata": {
        "id": "view-in-github",
        "colab_type": "text"
      },
      "source": [
        "<a href=\"https://colab.research.google.com/github/abdallakamel/NLP2021/blob/main/tuto00.ipynb\" target=\"_parent\"><img src=\"https://colab.research.google.com/assets/colab-badge.svg\" alt=\"Open In Colab\"/></a>"
      ]
    },
    {
      "cell_type": "code",
      "metadata": {
        "id": "pmS5Ih6T4F7R",
        "colab": {
          "base_uri": "https://localhost:8080/"
        },
        "outputId": "6513cf95-6901-4a07-b564-e58b0f31e2bd"
      },
      "source": [
        "#https://www.youtube.com/playlist?list=PLZoTAELRMXVMdJ5sqbCK2LiM0HhQVWNzm\n",
        "##NLP introduction\n",
        "import nltk\n",
        "import re\n",
        "from nltk.corpus import stopwords\n",
        "from nltk.stem.porter import PorterStemmer\n",
        "from nltk.stem import WordNetLemmatizer\n",
        "from nltk.tokenize import word_tokenize\n",
        "nltk.download('punkt')\n",
        "nltk.download('punkt_tab')\n",
        "nltk.download('wordnet')\n",
        "nltk.download('averaged_perceptron_tagger')\n",
        "nltk.download('stopwords')\n",
        "\n",
        "#DATA\n",
        "paragraph =  \"\"\"I have three visions for India. In 3000 years of our history, india people from all over\n",
        "               the world have come and invaded us, captured our lands, conquered our minds.\n",
        "               I see four milestones in my career\"\"\"\n",
        "\n",
        "\n",
        "ps = PorterStemmer()\n",
        "wordnet=WordNetLemmatizer()\n",
        "sentences=nltk.sent_tokenize(paragraph)\n",
        "corpus = []\n",
        "\n",
        "for i in range(len(sentences)):\n",
        "    review = re.sub('[^a-zA-Z]', ' ', sentences[i])\n",
        "    review = review.lower()\n",
        "    review = review.split()\n",
        "    review = [wordnet.lemmatize(word) for word in review if not word in set(stopwords.words('english'))]\n",
        "    review = ' '.join(review)\n",
        "    corpus.append(review)\n",
        "\n",
        "  # Creating the Bag of Words model\n",
        "from sklearn.feature_extraction.text import CountVectorizer\n",
        "cv = CountVectorizer(max_features = 1500)\n",
        "X = cv.fit_transform(corpus).toarray()\n",
        "\n",
        "# Creating the TF-IDF model\n",
        "from sklearn.feature_extraction.text import TfidfVectorizer\n",
        "cv1 = TfidfVectorizer()\n",
        "X1 = cv1.fit_transform(corpus).toarray()\n",
        "\n",
        "print(X)\n",
        "print(X1)\n"
      ],
      "execution_count": 5,
      "outputs": [
        {
          "output_type": "stream",
          "name": "stdout",
          "text": [
            "[[0 0 0 0 0 0 1 0 0 0 0 0 0 1 1 0 0]\n",
            " [1 0 1 1 0 1 1 1 1 0 1 1 0 0 0 1 1]\n",
            " [0 1 0 0 1 0 0 0 0 1 0 0 1 0 0 0 0]]\n",
            "[[0.         0.         0.         0.         0.         0.\n",
            "  0.4736296  0.         0.         0.         0.         0.\n",
            "  0.         0.62276601 0.62276601 0.         0.        ]\n",
            " [0.30746099 0.         0.30746099 0.30746099 0.         0.30746099\n",
            "  0.23383201 0.30746099 0.30746099 0.         0.30746099 0.30746099\n",
            "  0.         0.         0.         0.30746099 0.30746099]\n",
            " [0.         0.5        0.         0.         0.5        0.\n",
            "  0.         0.         0.         0.5        0.         0.\n",
            "  0.5        0.         0.         0.         0.        ]]\n"
          ]
        },
        {
          "output_type": "stream",
          "name": "stderr",
          "text": [
            "[nltk_data] Downloading package punkt to /root/nltk_data...\n",
            "[nltk_data]   Package punkt is already up-to-date!\n",
            "[nltk_data] Downloading package punkt_tab to /root/nltk_data...\n",
            "[nltk_data]   Package punkt_tab is already up-to-date!\n",
            "[nltk_data] Downloading package wordnet to /root/nltk_data...\n",
            "[nltk_data]   Package wordnet is already up-to-date!\n",
            "[nltk_data] Downloading package averaged_perceptron_tagger to\n",
            "[nltk_data]     /root/nltk_data...\n",
            "[nltk_data]   Package averaged_perceptron_tagger is already up-to-\n",
            "[nltk_data]       date!\n",
            "[nltk_data] Downloading package stopwords to /root/nltk_data...\n",
            "[nltk_data]   Package stopwords is already up-to-date!\n"
          ]
        }
      ]
    },
    {
      "cell_type": "code",
      "metadata": {
        "id": "bQ48EmaIF-Ni"
      },
      "source": [],
      "execution_count": null,
      "outputs": []
    }
  ]
}