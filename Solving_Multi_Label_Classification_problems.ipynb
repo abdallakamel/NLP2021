{
  "nbformat": 4,
  "nbformat_minor": 0,
  "metadata": {
    "colab": {
      "provenance": [],
      "toc_visible": true,
      "mount_file_id": "1px2rfJv1ndA316ZZeMB4E4Nv3Oe_RY-T",
      "authorship_tag": "ABX9TyOw8m8GkhisyfriGj8dOqky",
      "include_colab_link": true
    },
    "kernelspec": {
      "name": "python3",
      "display_name": "Python 3"
    },
    "language_info": {
      "name": "python"
    }
  },
  "cells": [
    {
      "cell_type": "markdown",
      "metadata": {
        "id": "view-in-github",
        "colab_type": "text"
      },
      "source": [
        "<a href=\"https://colab.research.google.com/github/abdallakamel/NLP2021/blob/main/Solving_Multi_Label_Classification_problems.ipynb\" target=\"_parent\"><img src=\"https://colab.research.google.com/assets/colab-badge.svg\" alt=\"Open In Colab\"/></a>"
      ]
    },
    {
      "cell_type": "markdown",
      "source": [
        "# Solving Multi-Label Classification problems (Case studies included)"
      ],
      "metadata": {
        "id": "xDYPGAElfwCa"
      }
    },
    {
      "cell_type": "markdown",
      "source": [
        "https://www.analyticsvidhya.com/blog/2017/08/introduction-to-multi-label-classification/"
      ],
      "metadata": {
        "id": "jcNMqHNLfsCm"
      }
    },
    {
      "cell_type": "markdown",
      "source": [
        "how to deal with arff format files"
      ],
      "metadata": {
        "id": "5lUzSrkB5KnP"
      }
    },
    {
      "cell_type": "code",
      "source": [
        "import scipy\n",
        "import pandas as pd\n",
        "from scipy.io import arff\n",
        "data, meta = scipy.io.arff.loadarff('/content/drive/MyDrive/Colab Notebooks/datasets/scene-train.arff');\n",
        "df = pd.DataFrame(data)"
      ],
      "metadata": {
        "id": "FQVPSWhn_bb9"
      },
      "execution_count": null,
      "outputs": []
    },
    {
      "cell_type": "code",
      "source": [
        "df.head()"
      ],
      "metadata": {
        "colab": {
          "base_uri": "https://localhost:8080/",
          "height": 299
        },
        "id": "aWizByuIAcuu",
        "outputId": "15a73729-39fb-4b4a-e67f-cb9842ea2f1e",
        "collapsed": true
      },
      "execution_count": null,
      "outputs": [
        {
          "output_type": "execute_result",
          "data": {
            "text/html": [
              "\n",
              "  <div id=\"df-42ffe743-db18-48fb-8f52-410978efcf3d\">\n",
              "    <div class=\"colab-df-container\">\n",
              "      <div>\n",
              "<style scoped>\n",
              "    .dataframe tbody tr th:only-of-type {\n",
              "        vertical-align: middle;\n",
              "    }\n",
              "\n",
              "    .dataframe tbody tr th {\n",
              "        vertical-align: top;\n",
              "    }\n",
              "\n",
              "    .dataframe thead th {\n",
              "        text-align: right;\n",
              "    }\n",
              "</style>\n",
              "<table border=\"1\" class=\"dataframe\">\n",
              "  <thead>\n",
              "    <tr style=\"text-align: right;\">\n",
              "      <th></th>\n",
              "      <th>Att1</th>\n",
              "      <th>Att2</th>\n",
              "      <th>Att3</th>\n",
              "      <th>Att4</th>\n",
              "      <th>Att5</th>\n",
              "      <th>Att6</th>\n",
              "      <th>Att7</th>\n",
              "      <th>Att8</th>\n",
              "      <th>Att9</th>\n",
              "      <th>Att10</th>\n",
              "      <th>...</th>\n",
              "      <th>Att291</th>\n",
              "      <th>Att292</th>\n",
              "      <th>Att293</th>\n",
              "      <th>Att294</th>\n",
              "      <th>Beach</th>\n",
              "      <th>Sunset</th>\n",
              "      <th>FallFoliage</th>\n",
              "      <th>Field</th>\n",
              "      <th>Mountain</th>\n",
              "      <th>Urban</th>\n",
              "    </tr>\n",
              "  </thead>\n",
              "  <tbody>\n",
              "    <tr>\n",
              "      <th>0</th>\n",
              "      <td>0.646467</td>\n",
              "      <td>0.666435</td>\n",
              "      <td>0.685047</td>\n",
              "      <td>0.699053</td>\n",
              "      <td>0.652746</td>\n",
              "      <td>0.407864</td>\n",
              "      <td>0.150309</td>\n",
              "      <td>0.535193</td>\n",
              "      <td>0.555689</td>\n",
              "      <td>0.580782</td>\n",
              "      <td>...</td>\n",
              "      <td>0.157332</td>\n",
              "      <td>0.247298</td>\n",
              "      <td>0.014025</td>\n",
              "      <td>0.029709</td>\n",
              "      <td>b'1'</td>\n",
              "      <td>b'0'</td>\n",
              "      <td>b'0'</td>\n",
              "      <td>b'0'</td>\n",
              "      <td>b'1'</td>\n",
              "      <td>b'0'</td>\n",
              "    </tr>\n",
              "    <tr>\n",
              "      <th>1</th>\n",
              "      <td>0.770156</td>\n",
              "      <td>0.767255</td>\n",
              "      <td>0.761053</td>\n",
              "      <td>0.745630</td>\n",
              "      <td>0.742231</td>\n",
              "      <td>0.688086</td>\n",
              "      <td>0.708416</td>\n",
              "      <td>0.757351</td>\n",
              "      <td>0.760633</td>\n",
              "      <td>0.740314</td>\n",
              "      <td>...</td>\n",
              "      <td>0.251454</td>\n",
              "      <td>0.137833</td>\n",
              "      <td>0.082672</td>\n",
              "      <td>0.036320</td>\n",
              "      <td>b'1'</td>\n",
              "      <td>b'0'</td>\n",
              "      <td>b'0'</td>\n",
              "      <td>b'0'</td>\n",
              "      <td>b'0'</td>\n",
              "      <td>b'1'</td>\n",
              "    </tr>\n",
              "    <tr>\n",
              "      <th>2</th>\n",
              "      <td>0.793984</td>\n",
              "      <td>0.772096</td>\n",
              "      <td>0.761820</td>\n",
              "      <td>0.762213</td>\n",
              "      <td>0.740569</td>\n",
              "      <td>0.734361</td>\n",
              "      <td>0.722677</td>\n",
              "      <td>0.849128</td>\n",
              "      <td>0.839607</td>\n",
              "      <td>0.812746</td>\n",
              "      <td>...</td>\n",
              "      <td>0.017166</td>\n",
              "      <td>0.051125</td>\n",
              "      <td>0.112506</td>\n",
              "      <td>0.083924</td>\n",
              "      <td>b'1'</td>\n",
              "      <td>b'0'</td>\n",
              "      <td>b'0'</td>\n",
              "      <td>b'0'</td>\n",
              "      <td>b'0'</td>\n",
              "      <td>b'0'</td>\n",
              "    </tr>\n",
              "    <tr>\n",
              "      <th>3</th>\n",
              "      <td>0.938563</td>\n",
              "      <td>0.949260</td>\n",
              "      <td>0.955621</td>\n",
              "      <td>0.966743</td>\n",
              "      <td>0.968649</td>\n",
              "      <td>0.869619</td>\n",
              "      <td>0.696925</td>\n",
              "      <td>0.953460</td>\n",
              "      <td>0.959631</td>\n",
              "      <td>0.966320</td>\n",
              "      <td>...</td>\n",
              "      <td>0.019267</td>\n",
              "      <td>0.031290</td>\n",
              "      <td>0.049780</td>\n",
              "      <td>0.090959</td>\n",
              "      <td>b'1'</td>\n",
              "      <td>b'0'</td>\n",
              "      <td>b'0'</td>\n",
              "      <td>b'0'</td>\n",
              "      <td>b'0'</td>\n",
              "      <td>b'0'</td>\n",
              "    </tr>\n",
              "    <tr>\n",
              "      <th>4</th>\n",
              "      <td>0.512130</td>\n",
              "      <td>0.524684</td>\n",
              "      <td>0.520020</td>\n",
              "      <td>0.504467</td>\n",
              "      <td>0.471209</td>\n",
              "      <td>0.417654</td>\n",
              "      <td>0.364292</td>\n",
              "      <td>0.562266</td>\n",
              "      <td>0.588592</td>\n",
              "      <td>0.584449</td>\n",
              "      <td>...</td>\n",
              "      <td>0.198151</td>\n",
              "      <td>0.238796</td>\n",
              "      <td>0.164270</td>\n",
              "      <td>0.184290</td>\n",
              "      <td>b'1'</td>\n",
              "      <td>b'0'</td>\n",
              "      <td>b'0'</td>\n",
              "      <td>b'0'</td>\n",
              "      <td>b'0'</td>\n",
              "      <td>b'0'</td>\n",
              "    </tr>\n",
              "  </tbody>\n",
              "</table>\n",
              "<p>5 rows × 300 columns</p>\n",
              "</div>\n",
              "      <button class=\"colab-df-convert\" onclick=\"convertToInteractive('df-42ffe743-db18-48fb-8f52-410978efcf3d')\"\n",
              "              title=\"Convert this dataframe to an interactive table.\"\n",
              "              style=\"display:none;\">\n",
              "        \n",
              "  <svg xmlns=\"http://www.w3.org/2000/svg\" height=\"24px\"viewBox=\"0 0 24 24\"\n",
              "       width=\"24px\">\n",
              "    <path d=\"M0 0h24v24H0V0z\" fill=\"none\"/>\n",
              "    <path d=\"M18.56 5.44l.94 2.06.94-2.06 2.06-.94-2.06-.94-.94-2.06-.94 2.06-2.06.94zm-11 1L8.5 8.5l.94-2.06 2.06-.94-2.06-.94L8.5 2.5l-.94 2.06-2.06.94zm10 10l.94 2.06.94-2.06 2.06-.94-2.06-.94-.94-2.06-.94 2.06-2.06.94z\"/><path d=\"M17.41 7.96l-1.37-1.37c-.4-.4-.92-.59-1.43-.59-.52 0-1.04.2-1.43.59L10.3 9.45l-7.72 7.72c-.78.78-.78 2.05 0 2.83L4 21.41c.39.39.9.59 1.41.59.51 0 1.02-.2 1.41-.59l7.78-7.78 2.81-2.81c.8-.78.8-2.07 0-2.86zM5.41 20L4 18.59l7.72-7.72 1.47 1.35L5.41 20z\"/>\n",
              "  </svg>\n",
              "      </button>\n",
              "      \n",
              "  <style>\n",
              "    .colab-df-container {\n",
              "      display:flex;\n",
              "      flex-wrap:wrap;\n",
              "      gap: 12px;\n",
              "    }\n",
              "\n",
              "    .colab-df-convert {\n",
              "      background-color: #E8F0FE;\n",
              "      border: none;\n",
              "      border-radius: 50%;\n",
              "      cursor: pointer;\n",
              "      display: none;\n",
              "      fill: #1967D2;\n",
              "      height: 32px;\n",
              "      padding: 0 0 0 0;\n",
              "      width: 32px;\n",
              "    }\n",
              "\n",
              "    .colab-df-convert:hover {\n",
              "      background-color: #E2EBFA;\n",
              "      box-shadow: 0px 1px 2px rgba(60, 64, 67, 0.3), 0px 1px 3px 1px rgba(60, 64, 67, 0.15);\n",
              "      fill: #174EA6;\n",
              "    }\n",
              "\n",
              "    [theme=dark] .colab-df-convert {\n",
              "      background-color: #3B4455;\n",
              "      fill: #D2E3FC;\n",
              "    }\n",
              "\n",
              "    [theme=dark] .colab-df-convert:hover {\n",
              "      background-color: #434B5C;\n",
              "      box-shadow: 0px 1px 3px 1px rgba(0, 0, 0, 0.15);\n",
              "      filter: drop-shadow(0px 1px 2px rgba(0, 0, 0, 0.3));\n",
              "      fill: #FFFFFF;\n",
              "    }\n",
              "  </style>\n",
              "\n",
              "      <script>\n",
              "        const buttonEl =\n",
              "          document.querySelector('#df-42ffe743-db18-48fb-8f52-410978efcf3d button.colab-df-convert');\n",
              "        buttonEl.style.display =\n",
              "          google.colab.kernel.accessAllowed ? 'block' : 'none';\n",
              "\n",
              "        async function convertToInteractive(key) {\n",
              "          const element = document.querySelector('#df-42ffe743-db18-48fb-8f52-410978efcf3d');\n",
              "          const dataTable =\n",
              "            await google.colab.kernel.invokeFunction('convertToInteractive',\n",
              "                                                     [key], {});\n",
              "          if (!dataTable) return;\n",
              "\n",
              "          const docLinkHtml = 'Like what you see? Visit the ' +\n",
              "            '<a target=\"_blank\" href=https://colab.research.google.com/notebooks/data_table.ipynb>data table notebook</a>'\n",
              "            + ' to learn more about interactive tables.';\n",
              "          element.innerHTML = '';\n",
              "          dataTable['output_type'] = 'display_data';\n",
              "          await google.colab.output.renderOutput(dataTable, element);\n",
              "          const docLink = document.createElement('div');\n",
              "          docLink.innerHTML = docLinkHtml;\n",
              "          element.appendChild(docLink);\n",
              "        }\n",
              "      </script>\n",
              "    </div>\n",
              "  </div>\n",
              "  "
            ],
            "text/plain": [
              "       Att1      Att2      Att3      Att4      Att5      Att6      Att7  \\\n",
              "0  0.646467  0.666435  0.685047  0.699053  0.652746  0.407864  0.150309   \n",
              "1  0.770156  0.767255  0.761053  0.745630  0.742231  0.688086  0.708416   \n",
              "2  0.793984  0.772096  0.761820  0.762213  0.740569  0.734361  0.722677   \n",
              "3  0.938563  0.949260  0.955621  0.966743  0.968649  0.869619  0.696925   \n",
              "4  0.512130  0.524684  0.520020  0.504467  0.471209  0.417654  0.364292   \n",
              "\n",
              "       Att8      Att9     Att10  ...    Att291    Att292    Att293    Att294  \\\n",
              "0  0.535193  0.555689  0.580782  ...  0.157332  0.247298  0.014025  0.029709   \n",
              "1  0.757351  0.760633  0.740314  ...  0.251454  0.137833  0.082672  0.036320   \n",
              "2  0.849128  0.839607  0.812746  ...  0.017166  0.051125  0.112506  0.083924   \n",
              "3  0.953460  0.959631  0.966320  ...  0.019267  0.031290  0.049780  0.090959   \n",
              "4  0.562266  0.588592  0.584449  ...  0.198151  0.238796  0.164270  0.184290   \n",
              "\n",
              "   Beach  Sunset  FallFoliage  Field  Mountain  Urban  \n",
              "0   b'1'    b'0'         b'0'   b'0'      b'1'   b'0'  \n",
              "1   b'1'    b'0'         b'0'   b'0'      b'0'   b'1'  \n",
              "2   b'1'    b'0'         b'0'   b'0'      b'0'   b'0'  \n",
              "3   b'1'    b'0'         b'0'   b'0'      b'0'   b'0'  \n",
              "4   b'1'    b'0'         b'0'   b'0'      b'0'   b'0'  \n",
              "\n",
              "[5 rows x 300 columns]"
            ]
          },
          "metadata": {},
          "execution_count": 6
        }
      ]
    },
    {
      "cell_type": "code",
      "source": [
        "from sklearn.datasets import make_multilabel_classification\n",
        "\n",
        "# this will generate a random multi-label dataset\n",
        "X, y = make_multilabel_classification(sparse = True, n_labels = 20,\n",
        "return_indicator = 'sparse', allow_unlabeled = False)"
      ],
      "metadata": {
        "id": "ktMjTCxDfuZs"
      },
      "execution_count": 13,
      "outputs": []
    },
    {
      "cell_type": "markdown",
      "source": [
        "#**Problem Transformation**\n",
        "In this method, we will try to transform our multi-label problem into single-label problem(s).\n",
        "\n",
        "This method can be carried out in three different ways as:\n",
        "\n",
        "1.   Binary Relevance\n",
        "2.   Classifier Chains\n",
        "3.   Label Powerset"
      ],
      "metadata": {
        "id": "Xyeo_llRFnGR"
      }
    },
    {
      "cell_type": "markdown",
      "source": [
        "\n",
        "##Binary Relevance"
      ],
      "metadata": {
        "id": "Dq3mAfTcw6fy"
      }
    },
    {
      "cell_type": "code",
      "source": [
        "# using binary relevance\n",
        "from skmultilearn.problem_transform import BinaryRelevance\n",
        "from sklearn.naive_bayes import GaussianNB\n",
        "\n",
        "# initialize binary relevance multi-label classifier\n",
        "# with a gaussian naive bayes base classifier\n",
        "classifier = BinaryRelevance(GaussianNB())\n",
        "\n"
      ],
      "metadata": {
        "id": "etmxN8EjhOa9"
      },
      "execution_count": 14,
      "outputs": []
    },
    {
      "cell_type": "code",
      "source": [
        "# train\n",
        "classifier.fit(X_train, y_train)\n",
        "\n",
        "# predict\n",
        "predictions = classifier.predict(X_test)"
      ],
      "metadata": {
        "id": "WeP2P7czj82h",
        "colab": {
          "base_uri": "https://localhost:8080/",
          "height": 211
        },
        "collapsed": true,
        "outputId": "7fe40c26-f566-4a49-841f-3a8971f5c3bf"
      },
      "execution_count": 16,
      "outputs": [
        {
          "output_type": "error",
          "ename": "NameError",
          "evalue": "name 'X_train' is not defined",
          "traceback": [
            "\u001b[0;31m---------------------------------------------------------------------------\u001b[0m",
            "\u001b[0;31mNameError\u001b[0m                                 Traceback (most recent call last)",
            "\u001b[0;32m<ipython-input-16-4590c67a7943>\u001b[0m in \u001b[0;36m<cell line: 0>\u001b[0;34m()\u001b[0m\n\u001b[1;32m      1\u001b[0m \u001b[0;31m# train\u001b[0m\u001b[0;34m\u001b[0m\u001b[0;34m\u001b[0m\u001b[0m\n\u001b[0;32m----> 2\u001b[0;31m \u001b[0mclassifier\u001b[0m\u001b[0;34m.\u001b[0m\u001b[0mfit\u001b[0m\u001b[0;34m(\u001b[0m\u001b[0mX_train\u001b[0m\u001b[0;34m,\u001b[0m \u001b[0my_train\u001b[0m\u001b[0;34m)\u001b[0m\u001b[0;34m\u001b[0m\u001b[0;34m\u001b[0m\u001b[0m\n\u001b[0m\u001b[1;32m      3\u001b[0m \u001b[0;34m\u001b[0m\u001b[0m\n\u001b[1;32m      4\u001b[0m \u001b[0;31m# predict\u001b[0m\u001b[0;34m\u001b[0m\u001b[0;34m\u001b[0m\u001b[0m\n\u001b[1;32m      5\u001b[0m \u001b[0mpredictions\u001b[0m \u001b[0;34m=\u001b[0m \u001b[0mclassifier\u001b[0m\u001b[0;34m.\u001b[0m\u001b[0mpredict\u001b[0m\u001b[0;34m(\u001b[0m\u001b[0mX_test\u001b[0m\u001b[0;34m)\u001b[0m\u001b[0;34m\u001b[0m\u001b[0;34m\u001b[0m\u001b[0m\n",
            "\u001b[0;31mNameError\u001b[0m: name 'X_train' is not defined"
          ]
        }
      ]
    },
    {
      "cell_type": "markdown",
      "source": [
        "## Classifier Chains\n",
        "In this, the first classifier is trained just on the input data and then each next classifier is trained on the input space and all the previous classifiers in the chain.\n",
        "\n",
        "# similar to binary relevance, the only difference being it forms chains in order to preserve label correlation."
      ],
      "metadata": {
        "id": "ub-Xiz-cGa3q"
      }
    },
    {
      "cell_type": "code",
      "source": [
        "# using classifier chains\n",
        "from skmultilearn.problem_transform import ClassifierChain\n",
        "from sklearn.naive_bayes import GaussianNB\n",
        "\n",
        "# initialize classifier chains multi-label classifier\n",
        "# with a gaussian naive bayes base classifier\n",
        "classifier = ClassifierChain(GaussianNB())\n",
        "\n",
        "# train\n",
        "classifier.fit(X_train, y_train)\n",
        "\n",
        "# predict\n",
        "predictions = classifier.predict(X_test)\n",
        "\n",
        "accuracy_score(y_test,predictions)"
      ],
      "metadata": {
        "id": "w23rnoj2GX4C"
      },
      "execution_count": null,
      "outputs": []
    },
    {
      "cell_type": "markdown",
      "source": [
        "##Label Powerset\n",
        "In this, we transform the problem into ***a multi-class problem:*** with one multi-class classifier is trained on all unique label combinations found in the training data.\n",
        "\n",
        "\n",
        " label powerset has given a unique class to every possible label combination that is present in the training set.\n",
        "\n",
        " The only disadvantage of this is that as the training data increases, number of classes become more. Thus, increasing the model complexity, and would result in a lower accuracy."
      ],
      "metadata": {
        "id": "UXExwvNKHhFV"
      }
    },
    {
      "cell_type": "code",
      "source": [
        "# using Label Powerset\n",
        "from skmultilearn.problem_transform import LabelPowerset\n",
        "from sklearn.naive_bayes import GaussianNB\n",
        "\n",
        "# initialize Label Powerset multi-label classifier\n",
        "# with a gaussian naive bayes base classifier\n",
        "classifier = LabelPowerset(GaussianNB())\n",
        "\n",
        "# train\n",
        "classifier.fit(X_train, y_train)\n",
        "\n",
        "# predict\n",
        "predictions = classifier.predict(X_test)\n",
        "\n",
        "accuracy_score(y_test,predictions)"
      ],
      "metadata": {
        "id": "fsYP1tb3HZEk"
      },
      "execution_count": null,
      "outputs": []
    },
    {
      "cell_type": "markdown",
      "source": [
        "#Adapted Algorithm\n",
        "Adapted algorithm, as the name suggests, adapting the algorithm to directly perform multi-label classification, rather than transforming the problem into different subsets of problems.\n",
        "\n"
      ],
      "metadata": {
        "id": "q9qohPY6xQN9"
      }
    },
    {
      "cell_type": "markdown",
      "source": [],
      "metadata": {
        "id": "WN73g8YiIvH3"
      }
    },
    {
      "cell_type": "markdown",
      "source": [
        "##  multi-label version of kNN\n",
        "mlknn is represented by MLkNN."
      ],
      "metadata": {
        "id": "n9DZs4bdzCV8"
      }
    },
    {
      "cell_type": "code",
      "source": [
        "from skmultilearn.adapt import MLkNN\n",
        "\n",
        "classifier = MLkNN(k=20)\n",
        "\n",
        "# train\n",
        "classifier.fit(X_train, y_train)\n",
        "\n",
        "# predict\n",
        "predictions = classifier.predict(X_test)\n",
        "\n",
        "accuracy_score(y_test,predictions)"
      ],
      "metadata": {
        "id": "LRsrFpvnzPhU"
      },
      "execution_count": null,
      "outputs": []
    },
    {
      "cell_type": "markdown",
      "source": [
        "# Ensemble Approaches\n",
        "Ensemble always produces better results. Scikit-Multilearn library provides different ensembling classification functions, which you can use for obtaining better results."
      ],
      "metadata": {
        "id": "gth4p7Oy_sYV"
      }
    },
    {
      "cell_type": "markdown",
      "source": [],
      "metadata": {
        "id": "jtf_3RbJx-VI"
      }
    },
    {
      "cell_type": "code",
      "source": [
        "from sklearn.datasets import fetch_rcv1\n"
      ],
      "metadata": {
        "id": "AHAUGYi2zMSj"
      },
      "execution_count": null,
      "outputs": []
    },
    {
      "cell_type": "code",
      "source": [
        "rcv1 = fetch_rcv1()"
      ],
      "metadata": {
        "id": "exRm231UzP5y"
      },
      "execution_count": null,
      "outputs": []
    },
    {
      "cell_type": "code",
      "source": [
        "rcv1.data.shape\n"
      ],
      "metadata": {
        "colab": {
          "base_uri": "https://localhost:8080/"
        },
        "id": "1XD2Fkf10Fcq",
        "outputId": "3d1f06fb-9221-4c2b-f7f6-9a954def775d"
      },
      "execution_count": null,
      "outputs": [
        {
          "output_type": "execute_result",
          "data": {
            "text/plain": [
              "(804414, 47236)"
            ]
          },
          "metadata": {},
          "execution_count": 3
        }
      ]
    },
    {
      "cell_type": "code",
      "source": [
        "rcv1.target.shape"
      ],
      "metadata": {
        "colab": {
          "base_uri": "https://localhost:8080/"
        },
        "id": "QgdRbFSJ0nVJ",
        "outputId": "a9719503-1a44-49c8-ddf4-166a5c387819"
      },
      "execution_count": null,
      "outputs": [
        {
          "output_type": "execute_result",
          "data": {
            "text/plain": [
              "(804414, 103)"
            ]
          },
          "metadata": {},
          "execution_count": 4
        }
      ]
    },
    {
      "cell_type": "code",
      "source": [],
      "metadata": {
        "id": "5XUor3EnQhZj"
      },
      "execution_count": null,
      "outputs": []
    }
  ]
}